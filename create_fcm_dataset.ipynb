{
 "cells": [
  {
   "cell_type": "code",
   "execution_count": 10,
   "id": "8202becf",
   "metadata": {},
   "outputs": [],
   "source": [
    "import pandas as pd\n",
    "import shutil\n",
    "from tqdm import tqdm"
   ]
  },
  {
   "cell_type": "code",
   "execution_count": 5,
   "id": "a7cfb079",
   "metadata": {},
   "outputs": [],
   "source": [
    "df = pd.read_csv(\"brain_fcm_clean.csv\")"
   ]
  },
  {
   "cell_type": "code",
   "execution_count": 7,
   "id": "ef828461",
   "metadata": {},
   "outputs": [],
   "source": [
    "df = df.drop(df.columns[[0]], axis=1)"
   ]
  },
  {
   "cell_type": "code",
   "execution_count": 8,
   "id": "5a15933e",
   "metadata": {},
   "outputs": [
    {
     "data": {
      "text/html": [
       "<div>\n",
       "<style scoped>\n",
       "    .dataframe tbody tr th:only-of-type {\n",
       "        vertical-align: middle;\n",
       "    }\n",
       "\n",
       "    .dataframe tbody tr th {\n",
       "        vertical-align: top;\n",
       "    }\n",
       "\n",
       "    .dataframe thead th {\n",
       "        text-align: right;\n",
       "    }\n",
       "</style>\n",
       "<table border=\"1\" class=\"dataframe\">\n",
       "  <thead>\n",
       "    <tr style=\"text-align: right;\">\n",
       "      <th></th>\n",
       "      <th>dirname</th>\n",
       "      <th>filename</th>\n",
       "      <th>mask_dirname</th>\n",
       "      <th>mask_filename</th>\n",
       "      <th>mask</th>\n",
       "      <th>keep</th>\n",
       "    </tr>\n",
       "  </thead>\n",
       "  <tbody>\n",
       "    <tr>\n",
       "      <th>0</th>\n",
       "      <td>../input/brain-jpg/data_jpg/main_jpg/Case1/Cas...</td>\n",
       "      <td>Case1-US-after-slice039.jpg</td>\n",
       "      <td>../input/brain-jpg/data_jpg/masks_jpg/Case1/Ca...</td>\n",
       "      <td>Case1-slice039.jpg</td>\n",
       "      <td>0</td>\n",
       "      <td>8.363183</td>\n",
       "    </tr>\n",
       "    <tr>\n",
       "      <th>1</th>\n",
       "      <td>../input/brain-jpg/data_jpg/main_jpg/Case1/Cas...</td>\n",
       "      <td>Case1-US-after-slice040.jpg</td>\n",
       "      <td>../input/brain-jpg/data_jpg/masks_jpg/Case1/Ca...</td>\n",
       "      <td>Case1-slice040.jpg</td>\n",
       "      <td>0</td>\n",
       "      <td>0.124949</td>\n",
       "    </tr>\n",
       "    <tr>\n",
       "      <th>2</th>\n",
       "      <td>../input/brain-jpg/data_jpg/main_jpg/Case1/Cas...</td>\n",
       "      <td>Case1-US-after-slice041.jpg</td>\n",
       "      <td>../input/brain-jpg/data_jpg/masks_jpg/Case1/Ca...</td>\n",
       "      <td>Case1-slice041.jpg</td>\n",
       "      <td>0</td>\n",
       "      <td>0.130931</td>\n",
       "    </tr>\n",
       "    <tr>\n",
       "      <th>3</th>\n",
       "      <td>../input/brain-jpg/data_jpg/main_jpg/Case1/Cas...</td>\n",
       "      <td>Case1-US-after-slice042.jpg</td>\n",
       "      <td>../input/brain-jpg/data_jpg/masks_jpg/Case1/Ca...</td>\n",
       "      <td>Case1-slice042.jpg</td>\n",
       "      <td>0</td>\n",
       "      <td>0.136262</td>\n",
       "    </tr>\n",
       "    <tr>\n",
       "      <th>4</th>\n",
       "      <td>../input/brain-jpg/data_jpg/main_jpg/Case1/Cas...</td>\n",
       "      <td>Case1-US-after-slice043.jpg</td>\n",
       "      <td>../input/brain-jpg/data_jpg/masks_jpg/Case1/Ca...</td>\n",
       "      <td>Case1-slice043.jpg</td>\n",
       "      <td>0</td>\n",
       "      <td>0.141710</td>\n",
       "    </tr>\n",
       "  </tbody>\n",
       "</table>\n",
       "</div>"
      ],
      "text/plain": [
       "                                             dirname  \\\n",
       "0  ../input/brain-jpg/data_jpg/main_jpg/Case1/Cas...   \n",
       "1  ../input/brain-jpg/data_jpg/main_jpg/Case1/Cas...   \n",
       "2  ../input/brain-jpg/data_jpg/main_jpg/Case1/Cas...   \n",
       "3  ../input/brain-jpg/data_jpg/main_jpg/Case1/Cas...   \n",
       "4  ../input/brain-jpg/data_jpg/main_jpg/Case1/Cas...   \n",
       "\n",
       "                      filename  \\\n",
       "0  Case1-US-after-slice039.jpg   \n",
       "1  Case1-US-after-slice040.jpg   \n",
       "2  Case1-US-after-slice041.jpg   \n",
       "3  Case1-US-after-slice042.jpg   \n",
       "4  Case1-US-after-slice043.jpg   \n",
       "\n",
       "                                        mask_dirname       mask_filename  \\\n",
       "0  ../input/brain-jpg/data_jpg/masks_jpg/Case1/Ca...  Case1-slice039.jpg   \n",
       "1  ../input/brain-jpg/data_jpg/masks_jpg/Case1/Ca...  Case1-slice040.jpg   \n",
       "2  ../input/brain-jpg/data_jpg/masks_jpg/Case1/Ca...  Case1-slice041.jpg   \n",
       "3  ../input/brain-jpg/data_jpg/masks_jpg/Case1/Ca...  Case1-slice042.jpg   \n",
       "4  ../input/brain-jpg/data_jpg/masks_jpg/Case1/Ca...  Case1-slice043.jpg   \n",
       "\n",
       "   mask      keep  \n",
       "0     0  8.363183  \n",
       "1     0  0.124949  \n",
       "2     0  0.130931  \n",
       "3     0  0.136262  \n",
       "4     0  0.141710  "
      ]
     },
     "execution_count": 8,
     "metadata": {},
     "output_type": "execute_result"
    }
   ],
   "source": [
    "df.head()"
   ]
  },
  {
   "cell_type": "code",
   "execution_count": 14,
   "id": "05e25d6e",
   "metadata": {},
   "outputs": [
    {
     "data": {
      "text/plain": [
       "'../input/brain-jpg/data_jpg/main_jpg/Case1/Case1-US-after-slice039.jpg'"
      ]
     },
     "execution_count": 14,
     "metadata": {},
     "output_type": "execute_result"
    }
   ],
   "source": [
    "i = df.dirname.iloc[0]\n",
    "i"
   ]
  },
  {
   "cell_type": "code",
   "execution_count": 18,
   "id": "f1a639b5",
   "metadata": {},
   "outputs": [
    {
     "name": "stdout",
     "output_type": "stream",
     "text": [
      "Case1 Case1-US-after-slice039.jpg\n"
     ]
    }
   ],
   "source": [
    "print(case,img)"
   ]
  },
  {
   "cell_type": "code",
   "execution_count": 19,
   "id": "6b9d3a2b",
   "metadata": {},
   "outputs": [],
   "source": [
    "src = \"/Users/chandana/ai_neuro/dataset/data_jpg/main_jpg/\""
   ]
  },
  {
   "cell_type": "code",
   "execution_count": 20,
   "id": "325550da",
   "metadata": {},
   "outputs": [
    {
     "name": "stderr",
     "output_type": "stream",
     "text": [
      "100%|██████████| 6031/6031 [00:03<00:00, 1766.74it/s]\n"
     ]
    }
   ],
   "source": [
    "for i in tqdm(df.dirname):\n",
    "    _,_,_,_,_,case,img = i.split(\"/\")\n",
    "    shutil.copy(src + case + \"/\" + img, '/Users/chandana/ai_neuro/dataset/fcm_dataset/main')"
   ]
  },
  {
   "cell_type": "code",
   "execution_count": 22,
   "id": "9354f459",
   "metadata": {},
   "outputs": [],
   "source": [
    "msrc = \"/Users/chandana/ai_neuro/dataset/data_jpg/masks_jpg/\""
   ]
  },
  {
   "cell_type": "code",
   "execution_count": 23,
   "id": "a4908af8",
   "metadata": {},
   "outputs": [
    {
     "name": "stderr",
     "output_type": "stream",
     "text": [
      "100%|██████████| 6031/6031 [00:04<00:00, 1506.39it/s]\n"
     ]
    }
   ],
   "source": [
    "for i in tqdm(df.mask_dirname):\n",
    "    _,_,_,_,_,case,img = i.split(\"/\")\n",
    "    shutil.copy(msrc + case + \"/\" + img, '/Users/chandana/ai_neuro/dataset/fcm_dataset/mask')"
   ]
  }
 ],
 "metadata": {
  "kernelspec": {
   "display_name": "Python 3",
   "language": "python",
   "name": "python3"
  },
  "language_info": {
   "codemirror_mode": {
    "name": "ipython",
    "version": 3
   },
   "file_extension": ".py",
   "mimetype": "text/x-python",
   "name": "python",
   "nbconvert_exporter": "python",
   "pygments_lexer": "ipython3",
   "version": "3.8.8"
  }
 },
 "nbformat": 4,
 "nbformat_minor": 5
}
